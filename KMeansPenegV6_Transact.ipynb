{
 "cells": [
  {
   "cell_type": "code",
   "execution_count": null,
   "metadata": {},
   "outputs": [],
   "source": [
    "# referencias\n",
    "import numpy as np\n",
    "import pandas as pd\n",
    "import matplotlib.pyplot as plt\n",
    "import seaborn as sns\n",
    "import pyodbc \n",
    "import math\n",
    "from pandas_profiling import ProfileReport\n",
    "from sklearn.cluster import KMeans\n",
    "%matplotlib inline\n",
    "import warnings\n",
    "warnings.filterwarnings('ignore')"
   ]
  },
  {
   "cell_type": "code",
   "execution_count": null,
   "metadata": {},
   "outputs": [],
   "source": [
    "# Por questões de segurança a conexão disponibilizada foi descaracterizada e apontada posteriormente para csv do dataset relacionado\n",
    "''' \n",
    "conn = pyodbc.connect('Driver={SQL Server};'\n",
    "                      'Server=XXXXXXXXXX;'\n",
    "                      'Database=YYYYYYYY;'\n",
    "                      'Trusted_Connection=yes;')\n",
    "cursor = conn.cursor()\n",
    "dataset = pd.read_sql_query('ZZZZZZZZZZZZ',conn)\n",
    "'''\n",
    "# atribuindo dataset\n",
    "dataset = pd.read_csv(\"dataset_peneg.csv\")"
   ]
  },
  {
   "cell_type": "code",
   "execution_count": null,
   "metadata": {},
   "outputs": [],
   "source": [
    "df_transact = dataset[['CANAL_ATENDIMENTO','TEMA_ATENDIMENTO','ABORDAGEM_ATENDIMENTO','CATEGORIA_ATENDIMENTO','INSTRUMENTO_ATENDIMENTO','MEIO_ATENDIMENTO']]"
   ]
  },
  {
   "cell_type": "code",
   "execution_count": null,
   "metadata": {},
   "outputs": [],
   "source": [
    "df_transact.describe()"
   ]
  },
  {
   "cell_type": "code",
   "execution_count": null,
   "metadata": {},
   "outputs": [],
   "source": [
    "sns.pairplot(df_transact)"
   ]
  },
  {
   "cell_type": "markdown",
   "metadata": {},
   "source": [
    "###### Executando K-Means inicialmente com agrupamentos aleatórios (1 para cada par de variáveis) para obter o número ideal posteriormente"
   ]
  },
  {
   "cell_type": "code",
   "execution_count": null,
   "metadata": {},
   "outputs": [],
   "source": [
    "# Função para calculo do somatório da variância dos dados em relação ao número de clusters iniciais\n",
    "def calculate_wcss(data):\n",
    "    wcss = []\n",
    "    # 3 iterações por um cluster a cada par dos 6 atributos possíveis\n",
    "    for n in range(1, 4):\n",
    "        kmeans = KMeans(n_clusters=n,init='k-means++')\n",
    "        kmeans.fit(X=data)\n",
    "        print (n,kmeans.inertia_)\n",
    "        wcss.append(kmeans.inertia_)\n",
    "    return wcss #Within Cluster Sum of Squares (soma dos quadrados do cluster)"
   ]
  },
  {
   "cell_type": "code",
   "execution_count": null,
   "metadata": {},
   "outputs": [],
   "source": [
    "# Chamando função para somatório da variância dos dados em relação ao número de clusters (soma dos quadrados de cada clusters)\n",
    "sum_of_squares = calculate_wcss(df_transact)"
   ]
  },
  {
   "cell_type": "code",
   "execution_count": null,
   "metadata": {},
   "outputs": [],
   "source": [
    "# Função para verificar até que ponto com o aumento do nº de clusters não existe ganho para se chegar ao número ideal\n",
    "# Baseada na formula do cálculo da distância entre um ponto e uma reta\n",
    "def optimal_number_of_clusters(wcss):\n",
    "    x1, y1 = 1, wcss[0]\n",
    "    x2, y2 = 6, wcss[len(wcss)-1]\n",
    "    distances = []\n",
    "    for i in range(len(wcss)):\n",
    "        x0 = i+2\n",
    "        y0 = wcss[i]\n",
    "        numerator = abs((y2-y1)*x0 - (x2-x1)*y0 + x2*y1 - y2*x1)\n",
    "        denominator = math.sqrt((y2 - y1)**2 + (x2 - x1)**2)\n",
    "        distances.append(numerator/denominator)\n",
    "    return distances.index(max(distances))"
   ]
  },
  {
   "cell_type": "code",
   "execution_count": null,
   "metadata": {},
   "outputs": [],
   "source": [
    "# Calculando a quantidade ótima de clusters (ideal) e atribuindo a variavel para utilização futura\n",
    "n = optimal_number_of_clusters(sum_of_squares)"
   ]
  },
  {
   "cell_type": "markdown",
   "metadata": {},
   "source": [
    "###### Verificando número ideal de clusters com inferência gráfica do Método Elbow (Cotovelo)"
   ]
  },
  {
   "cell_type": "code",
   "execution_count": null,
   "metadata": {},
   "outputs": [],
   "source": [
    "# Verificando a quantidade ideal de cluster calculadas com base e plot em gráfico de cotovelo\n",
    "print('     Nº ideal de clusters calculado: ', n)\n",
    "plt.plot(range(1, 4), sum_of_squares)\n",
    "plt.title('Metodo Elbow')\n",
    "plt.xlabel('Nº Clusters')\n",
    "plt.ylabel('WSS') #Within Cluster Sum of Squares (soma dos quadrados do cluster)\n",
    "plt.show()"
   ]
  },
  {
   "cell_type": "markdown",
   "metadata": {},
   "source": [
    "###### Executando K-Means novamente, porém, desta vez com o número ideal de clusters"
   ]
  },
  {
   "cell_type": "code",
   "execution_count": null,
   "metadata": {},
   "outputs": [],
   "source": [
    "# Iniciando KMeans com numero ideal de clusters (n calculado)\n",
    "kmeans = KMeans(n_clusters = n, init = 'k-means++', random_state = 0)\n",
    "# Aplicando o algoritmo\n",
    "kmeans.fit(df_transact)"
   ]
  },
  {
   "cell_type": "markdown",
   "metadata": {},
   "source": [
    "###### Analisando clusters atribuídos"
   ]
  },
  {
   "cell_type": "code",
   "execution_count": null,
   "metadata": {},
   "outputs": [],
   "source": [
    "# Atribuindo clusters ao dataset/dataframe \n",
    "### labels são o código de cada cluster criado pelo K-Means\n",
    "df_transact['CLUSTER'] = kmeans.labels_"
   ]
  },
  {
   "cell_type": "code",
   "execution_count": null,
   "metadata": {},
   "outputs": [],
   "source": [
    "df_transact.groupby(\"CLUSTER\").aggregate(\"mean\").plot.bar(figsize=(20,8))\n",
    "plt.title(\"Distribuição por Clusters\")"
   ]
  },
  {
   "cell_type": "code",
   "execution_count": null,
   "metadata": {},
   "outputs": [],
   "source": [
    "sns.pairplot(df_transact,hue='CLUSTER', palette=\"tab10\", plot_kws = {'alpha': 0.6, 's': 80, 'edgecolor': 'k'})"
   ]
  },
  {
   "cell_type": "code",
   "execution_count": null,
   "metadata": {},
   "outputs": [],
   "source": [
    "df_transact.loc[df_transact['CLUSTER']==0].describe()"
   ]
  },
  {
   "cell_type": "code",
   "execution_count": null,
   "metadata": {},
   "outputs": [],
   "source": [
    "df_transact.loc[df_transact['CLUSTER']==1].describe()"
   ]
  },
  {
   "cell_type": "code",
   "execution_count": null,
   "metadata": {},
   "outputs": [],
   "source": [
    "sns.color_palette(\"tab10\")\n",
    "sns.pairplot(\n",
    "    df_transact,\n",
    "    vars = ['MEIO_ATENDIMENTO', 'CANAL_ATENDIMENTO'],\n",
    "    hue='CLUSTER',\n",
    "    palette=\"tab10\",\n",
    "    plot_kws = {'alpha': 0.6, 's': 80, 'edgecolor': 'k'}\n",
    ")"
   ]
  },
  {
   "cell_type": "code",
   "execution_count": null,
   "metadata": {},
   "outputs": [],
   "source": [
    "# Visualizando centroides por clustering de idade\n",
    "labels = kmeans.labels_\n",
    "centroids = kmeans.cluster_centers_\n",
    "predict_kmeans = kmeans.predict(df_transact.drop('CLUSTER',axis=1))\n",
    "#plt.scatter(dataset[:, 0], dataset[:, 12], c=predict_kmeans, s=50, cmap='CLUSTER')\n",
    "plt.scatter(df_transact['INSTRUMENTO_ATENDIMENTO'], df_transact['INSTRUMENTO_ATENDIMENTO'], c=predict_kmeans, s=50, cmap='plasma')\n",
    "plt.scatter(centroids[:, 4], centroids[:, 4], c='red', s=200, alpha=0.5);"
   ]
  },
  {
   "cell_type": "code",
   "execution_count": null,
   "metadata": {},
   "outputs": [],
   "source": [
    "df_transact[['CANAL_ATENDIMENTO','TEMA_ATENDIMENTO',\n",
    "             'ABORDAGEM_ATENDIMENTO','CATEGORIA_ATENDIMENTO',\n",
    "             'INSTRUMENTO_ATENDIMENTO','MEIO_ATENDIMENTO']].corr().style.background_gradient(cmap='coolwarm', axis=None)"
   ]
  }
 ],
 "metadata": {
  "kernelspec": {
   "display_name": "Python 3",
   "language": "python",
   "name": "python3"
  },
  "language_info": {
   "codemirror_mode": {
    "name": "ipython",
    "version": 3
   },
   "file_extension": ".py",
   "mimetype": "text/x-python",
   "name": "python",
   "nbconvert_exporter": "python",
   "pygments_lexer": "ipython3",
   "version": "3.7.0"
  }
 },
 "nbformat": 4,
 "nbformat_minor": 2
}
