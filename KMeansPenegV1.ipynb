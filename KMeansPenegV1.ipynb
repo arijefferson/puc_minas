{
 "cells": [
  {
   "cell_type": "code",
   "execution_count": 1,
   "metadata": {},
   "outputs": [],
   "source": [
    "# referencias\n",
    "from pandas_profiling import ProfileReport\n",
    "from sklearn.cluster import KMeans\n",
    "import pandas as pd\n",
    "import pyodbc \n",
    "import matplotlib.pyplot as plt\n",
    "import seaborn as sns\n",
    "import math"
   ]
  },
  {
   "cell_type": "code",
   "execution_count": 2,
   "metadata": {},
   "outputs": [],
   "source": [
    "# Por questões de segurança a conexão disponibilizada foi descaracterizada e apontada posteriormente para csv do dataset relacionado\n",
    "''' \n",
    "conn = pyodbc.connect('Driver={SQL Server};'\n",
    "                      'Server=XXXXXXXXXX;'\n",
    "                      'Database=YYYYYYYY;'\n",
    "                      'Trusted_Connection=yes;')\n",
    "cursor = conn.cursor()\n",
    "dataset = pd.read_sql_query('ZZZZZZZZZZZZ',conn)\n",
    "'''\n",
    "# atribuindo dataset\n",
    "dataset = pd.read_csv(\"dataset_peneg.csv\")"
   ]
  },
  {
   "cell_type": "code",
   "execution_count": 4,
   "metadata": {},
   "outputs": [],
   "source": [
    "# Função para calculo do somatório da variância dos dados em relação ao número de clusters iniciais\n",
    "def wcss(data): \n",
    "    wcss = [] #Within Cluster Sum of Squares (soma dos quadrados do cluster)\n",
    "    # 10 iterações por um cluster a cada par dos 20 atributos possíveis considerados inicialmente\n",
    "    for n in range(1, 11):\n",
    "        kmeans = KMeans(n_clusters=n,init='k-means++')\n",
    "        kmeans.fit(X=data)\n",
    "        print (n,kmeans.inertia_)\n",
    "        wcss.append(kmeans.inertia_)\n",
    "    return wcss"
   ]
  },
  {
   "cell_type": "code",
   "execution_count": 5,
   "metadata": {},
   "outputs": [
    {
     "name": "stdout",
     "output_type": "stream",
     "text": [
      "1 765937697.8735985\n",
      "2 543319741.915573\n",
      "3 449787859.149059\n",
      "4 385297961.91806275\n",
      "5 346696384.20077974\n",
      "6 315122035.2741481\n",
      "7 285643144.2778526\n",
      "8 264143445.77483314\n",
      "9 251146734.71991125\n",
      "10 240463899.58806184\n"
     ]
    }
   ],
   "source": [
    "# Chamando função para somatório da variância dos dados em relação ao número de clusters (soma dos quadrados de cada clusters)\n",
    "sum_of_squares = wcss(dataset)"
   ]
  },
  {
   "cell_type": "code",
   "execution_count": 6,
   "metadata": {},
   "outputs": [
    {
     "data": {
      "image/png": "[encoded data removed]",
      "text/plain": [
       "<Figure size 432x288 with 1 Axes>"
      ]
     },
     "metadata": {
      "needs_background": "light"
     },
     "output_type": "display_data"
    }
   ],
   "source": [
    "# Verificando a quantidade ideal de cluster calculadas com base e plot em gráfico de cotovelo\n",
    "plt.plot(range(1, 11), sum_of_squares)\n",
    "plt.title('Metodo Elbow')\n",
    "plt.xlabel('Nº Clusters')\n",
    "plt.ylabel('WCSS') #Within Cluster Sum of Squares (soma dos quadrados do cluster)\n",
    "plt.show()"
   ]
  }
 ],
 "metadata": {
  "kernelspec": {
   "display_name": "Python 3",
   "language": "python",
   "name": "python3"
  },
  "language_info": {
   "codemirror_mode": {
    "name": "ipython",
    "version": 3
   },
   "file_extension": ".py",
   "mimetype": "text/x-python",
   "name": "python",
   "nbconvert_exporter": "python",
   "pygments_lexer": "ipython3",
   "version": "3.7.0"
  }
 },
 "nbformat": 4,
 "nbformat_minor": 2
}
