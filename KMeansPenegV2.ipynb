{
 "cells": [
  {
   "cell_type": "code",
   "execution_count": null,
   "metadata": {},
   "outputs": [],
   "source": [
    "# referencias\n",
    "from pandas_profiling import ProfileReport\n",
    "from sklearn.cluster import KMeans\n",
    "import pandas as pd\n",
    "import pyodbc \n",
    "import matplotlib.pyplot as plt\n",
    "import seaborn as sns\n",
    "import math"
   ]
  },
  {
   "cell_type": "code",
   "execution_count": null,
   "metadata": {},
   "outputs": [],
   "source": [
    "# Por questões de segurança a conexão disponibilizada foi descaracterizada e apontada posteriormente para csv do dataset relacionado\n",
    "''' \n",
    "conn = pyodbc.connect('Driver={SQL Server};'\n",
    "                      'Server=XXXXXXXXXX;'\n",
    "                      'Database=YYYYYYYY;'\n",
    "                      'Trusted_Connection=yes;')\n",
    "cursor = conn.cursor()\n",
    "dataset = pd.read_sql_query('ZZZZZZZZZZZZ',conn)\n",
    "'''\n",
    "# atribuindo dataset\n",
    "dataset = pd.read_csv(\"dataset_peneg.csv\")"
   ]
  },
  {
   "cell_type": "code",
   "execution_count": null,
   "metadata": {},
   "outputs": [],
   "source": [
    "# Função para calculo do somatório da variância dos dados em relação ao número de clusters iniciais\n",
    "def wcss(data): \n",
    "    wcss = [] #Within Cluster Sum of Squares (soma dos quadrados do cluster)\n",
    "    # 10 iterações por um cluster a cada par dos 20 atributos possíveis considerados inicialmente\n",
    "    for n in range(1, 11):\n",
    "        kmeans = KMeans(n_clusters=n,init='k-means++')\n",
    "        kmeans.fit(X=data)\n",
    "        print (n,kmeans.inertia_)\n",
    "        wcss.append(kmeans.inertia_)\n",
    "    return wcss"
   ]
  },
  {
   "cell_type": "code",
   "execution_count": null,
   "metadata": {},
   "outputs": [],
   "source": [
    "# Chamando função para somatório da variância dos dados em relação ao número de clusters (soma dos quadrados de cada clusters)\n",
    "sum_of_squares = wcss(dataset)"
   ]
  },
  {
   "cell_type": "code",
   "execution_count": null,
   "metadata": {},
   "outputs": [],
   "source": [
    "# Função para verificar até que ponto com o aumento do nº de clusters não existe ganho para se chegar ao número ideal\n",
    "# Baseada na formula do cálculo da distância entre um ponto e uma reta\n",
    "def optimal_number_of_clusters(wcss):\n",
    "    x1, y1 = 1, wcss[0]\n",
    "    x2, y2 = 10, wcss[len(wcss)-1]\n",
    "    distances = []\n",
    "    for i in range(len(wcss)):\n",
    "        x0 = i+2\n",
    "        y0 = wcss[i]\n",
    "        numerator = abs((y2-y1)*x0 - (x2-x1)*y0 + x2*y1 - y2*x1)\n",
    "        denominator = math.sqrt((y2 - y1)**2 + (x2 - x1)**2)\n",
    "        distances.append(numerator/denominator)\n",
    "    return distances.index(max(distances))"
   ]
  },
  {
   "cell_type": "code",
   "execution_count": null,
   "metadata": {},
   "outputs": [],
   "source": [
    "# Calculando a quantidade ótima de clusters (ideal) e atribuindo a variavel para utilização futura\n",
    "n = optimal_number_of_clusters(sum_of_squares)"
   ]
  },
  {
   "cell_type": "code",
   "execution_count": null,
   "metadata": {},
   "outputs": [],
   "source": [
    "# Verificando a quantidade ideal de cluster calculadas com base e plot em gráfico de cotovelo\n",
    "print('\\t Nº ideal de clusters calculado: ', n)\n",
    "plt.plot(range(1, 11), sum_of_squares)\n",
    "plt.title('Metodo Elbow')\n",
    "plt.xlabel('Nº Clusters')\n",
    "plt.ylabel('WCSS') #Within Cluster Sum of Squares (soma dos quadrados do cluster)\n",
    "plt.show()"
   ]
  }
 ],
 "metadata": {
  "kernelspec": {
   "display_name": "Python 3",
   "language": "python",
   "name": "python3"
  },
  "language_info": {
   "codemirror_mode": {
    "name": "ipython",
    "version": 3
   },
   "file_extension": ".py",
   "mimetype": "text/x-python",
   "name": "python",
   "nbconvert_exporter": "python",
   "pygments_lexer": "ipython3",
   "version": "3.7.0"
  }
 },
 "nbformat": 4,
 "nbformat_minor": 2
}
